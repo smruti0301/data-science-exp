{
  "nbformat": 4,
  "nbformat_minor": 0,
  "metadata": {
    "colab": {
      "provenance": [],
      "authorship_tag": "ABX9TyN+6XQ8OJ3+saKZqss5XG0A",
      "include_colab_link": true
    },
    "kernelspec": {
      "name": "python3",
      "display_name": "Python 3"
    },
    "language_info": {
      "name": "python"
    }
  },
  "cells": [
    {
      "cell_type": "markdown",
      "metadata": {
        "id": "view-in-github",
        "colab_type": "text"
      },
      "source": [
        "<a href=\"https://colab.research.google.com/github/smruti0301/data-science-exp/blob/main/exp9.ipynb\" target=\"_parent\"><img src=\"https://colab.research.google.com/assets/colab-badge.svg\" alt=\"Open In Colab\"/></a>"
      ]
    },
    {
      "cell_type": "code",
      "execution_count": 1,
      "metadata": {
        "id": "uulMKDmVpc48"
      },
      "outputs": [],
      "source": [
        "# apply wrapper feature selection techniques"
      ]
    },
    {
      "cell_type": "code",
      "source": [
        "# Import necessary libraries\n",
        "import numpy as np\n",
        "import pandas as pd\n",
        "from sklearn.datasets import load_iris\n",
        "from sklearn.model_selection import train_test_split\n",
        "from sklearn.linear_model import LogisticRegression\n",
        "from sklearn.feature_selection import SequentialFeatureSelector\n",
        "from sklearn.metrics import accuracy_score\n"
      ],
      "metadata": {
        "id": "Unqow-EipkmA"
      },
      "execution_count": 2,
      "outputs": []
    },
    {
      "cell_type": "code",
      "source": [
        "# Load the Iris dataset\n",
        "iris = load_iris()\n",
        "X = iris.data\n",
        "y = iris.target"
      ],
      "metadata": {
        "id": "xIh_Z0PMpm5q"
      },
      "execution_count": 3,
      "outputs": []
    },
    {
      "cell_type": "code",
      "source": [
        "# Split the dataset into training and testing sets\n",
        "X_train, X_test, y_train, y_test = train_test_split(X, y, test_size=0.3, random_state=42)"
      ],
      "metadata": {
        "id": "higSsdpIpptZ"
      },
      "execution_count": 4,
      "outputs": []
    },
    {
      "cell_type": "code",
      "source": [
        "#select a model"
      ],
      "metadata": {
        "id": "Uhm6SNBopthP"
      },
      "execution_count": 5,
      "outputs": []
    },
    {
      "cell_type": "code",
      "source": [
        "# Initialize the model\n",
        "model = LogisticRegression(max_iter=200)"
      ],
      "metadata": {
        "id": "XqGYJiknpx4H"
      },
      "execution_count": 6,
      "outputs": []
    },
    {
      "cell_type": "code",
      "source": [
        "# Apply Sequential Feature Selector with forward selection\n",
        "selector = SequentialFeatureSelector(model, n_features_to_select='auto', direction='forward', cv=5)\n",
        "\n",
        "# Fit the selector on the training data\n",
        "selector.fit(X_train, y_train)\n",
        "\n",
        "# Get the selected features\n",
        "selected_features = selector.get_support()\n",
        "print(\"Selected Features: \", selected_features)"
      ],
      "metadata": {
        "colab": {
          "base_uri": "https://localhost:8080/"
        },
        "id": "JGwpeeEYpyR1",
        "outputId": "f7bdf673-b76f-4dfd-e878-c1e81107d730"
      },
      "execution_count": 7,
      "outputs": [
        {
          "output_type": "stream",
          "name": "stdout",
          "text": [
            "Selected Features:  [False False  True  True]\n"
          ]
        }
      ]
    },
    {
      "cell_type": "code",
      "source": [
        "#Evaluate model with selected features"
      ],
      "metadata": {
        "id": "KW0PCr3Xp2Di"
      },
      "execution_count": 8,
      "outputs": []
    },
    {
      "cell_type": "code",
      "source": [
        "# Create a new dataset with the selected features\n",
        "X_train_selected = X_train[:, selected_features]\n",
        "X_test_selected = X_test[:, selected_features]\n",
        "\n",
        "# Train the model using the selected features\n",
        "model.fit(X_train_selected, y_train)\n",
        "\n",
        "# Make predictions\n",
        "y_pred = model.predict(X_test_selected)\n",
        "\n",
        "# Evaluate performance\n",
        "accuracy = accuracy_score(y_test, y_pred)\n",
        "print(f\"Model Accuracy with Selected Features: {accuracy:.4f}\")"
      ],
      "metadata": {
        "colab": {
          "base_uri": "https://localhost:8080/"
        },
        "id": "21D4iQf8p-z8",
        "outputId": "28fd30fe-a7f0-465f-b5e2-e33929d9e90f"
      },
      "execution_count": 9,
      "outputs": [
        {
          "output_type": "stream",
          "name": "stdout",
          "text": [
            "Model Accuracy with Selected Features: 1.0000\n"
          ]
        }
      ]
    },
    {
      "cell_type": "code",
      "source": [
        "#Visualizing selected features"
      ],
      "metadata": {
        "id": "M_VhVV9rqCDF"
      },
      "execution_count": 10,
      "outputs": []
    },
    {
      "cell_type": "code",
      "source": [
        "# Visualizing the Selected Features and Printing them\n",
        "selected_feature_indices = np.where(selected_features)[0]\n",
        "selected_feature_names = np.array(iris.feature_names)[selected_feature_indices]\n",
        "\n",
        "# Print the selected feature names\n",
        "print(\"Selected Features:\", selected_feature_names)\n",
        "\n",
        "# Create a new dataset with the selected features\n",
        "X_train_selected = X_train[:, selected_feature_indices]\n",
        "X_test_selected = X_test[:, selected_feature_indices]\n",
        "\n",
        "# Train the model using the selected features\n",
        "model.fit(X_train_selected, y_train)\n",
        "\n",
        "# Make predictions\n",
        "y_pred = model.predict(X_test_selected)\n",
        "\n",
        "# Evaluate performance\n",
        "accuracy = accuracy_score(y_test, y_pred)\n",
        "print(f\"Model Accuracy with Selected Features: {accuracy:.4f}\")"
      ],
      "metadata": {
        "colab": {
          "base_uri": "https://localhost:8080/"
        },
        "id": "ETu2t9uCqIWg",
        "outputId": "62cfa62c-c9c0-4c12-f326-d7dfd71d9b33"
      },
      "execution_count": 11,
      "outputs": [
        {
          "output_type": "stream",
          "name": "stdout",
          "text": [
            "Selected Features: ['petal length (cm)' 'petal width (cm)']\n",
            "Model Accuracy with Selected Features: 1.0000\n"
          ]
        }
      ]
    },
    {
      "cell_type": "code",
      "source": [],
      "metadata": {
        "id": "G2R2XB8FqIyF"
      },
      "execution_count": null,
      "outputs": []
    }
  ]
}