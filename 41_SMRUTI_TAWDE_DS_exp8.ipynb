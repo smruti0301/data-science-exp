{
  "nbformat": 4,
  "nbformat_minor": 0,
  "metadata": {
    "colab": {
      "provenance": [],
      "authorship_tag": "ABX9TyMQGC6m6fAiUH3/taH9EW37",
      "include_colab_link": true
    },
    "kernelspec": {
      "name": "python3",
      "display_name": "Python 3"
    },
    "language_info": {
      "name": "python"
    }
  },
  "cells": [
    {
      "cell_type": "markdown",
      "metadata": {
        "id": "view-in-github",
        "colab_type": "text"
      },
      "source": [
        "<a href=\"https://colab.research.google.com/github/smruti0301/data-science-exp/blob/main/41_SMRUTI_TAWDE_DS_exp8.ipynb\" target=\"_parent\"><img src=\"https://colab.research.google.com/assets/colab-badge.svg\" alt=\"Open In Colab\"/></a>"
      ]
    },
    {
      "cell_type": "code",
      "execution_count": 1,
      "metadata": {
        "id": "ibAp9E8topcu"
      },
      "outputs": [],
      "source": [
        "#Load the dataset\n",
        "from sklearn.datasets import load_breast_cancer\n",
        "import pandas as pd\n",
        "\n",
        "# Load the Breast Cancer dataset\n",
        "data = load_breast_cancer()\n",
        "X = pd.DataFrame(data.data, columns=data.feature_names)\n",
        "y = data.target"
      ]
    },
    {
      "cell_type": "code",
      "source": [
        "print(X.head())"
      ],
      "metadata": {
        "colab": {
          "base_uri": "https://localhost:8080/"
        },
        "id": "qUCikmZGoy5D",
        "outputId": "dba07afa-e4ea-4edd-fd88-174f135288c0"
      },
      "execution_count": 2,
      "outputs": [
        {
          "output_type": "stream",
          "name": "stdout",
          "text": [
            "   mean radius  mean texture  mean perimeter  mean area  mean smoothness  \\\n",
            "0        17.99         10.38          122.80     1001.0          0.11840   \n",
            "1        20.57         17.77          132.90     1326.0          0.08474   \n",
            "2        19.69         21.25          130.00     1203.0          0.10960   \n",
            "3        11.42         20.38           77.58      386.1          0.14250   \n",
            "4        20.29         14.34          135.10     1297.0          0.10030   \n",
            "\n",
            "   mean compactness  mean concavity  mean concave points  mean symmetry  \\\n",
            "0           0.27760          0.3001              0.14710         0.2419   \n",
            "1           0.07864          0.0869              0.07017         0.1812   \n",
            "2           0.15990          0.1974              0.12790         0.2069   \n",
            "3           0.28390          0.2414              0.10520         0.2597   \n",
            "4           0.13280          0.1980              0.10430         0.1809   \n",
            "\n",
            "   mean fractal dimension  ...  worst radius  worst texture  worst perimeter  \\\n",
            "0                 0.07871  ...         25.38          17.33           184.60   \n",
            "1                 0.05667  ...         24.99          23.41           158.80   \n",
            "2                 0.05999  ...         23.57          25.53           152.50   \n",
            "3                 0.09744  ...         14.91          26.50            98.87   \n",
            "4                 0.05883  ...         22.54          16.67           152.20   \n",
            "\n",
            "   worst area  worst smoothness  worst compactness  worst concavity  \\\n",
            "0      2019.0            0.1622             0.6656           0.7119   \n",
            "1      1956.0            0.1238             0.1866           0.2416   \n",
            "2      1709.0            0.1444             0.4245           0.4504   \n",
            "3       567.7            0.2098             0.8663           0.6869   \n",
            "4      1575.0            0.1374             0.2050           0.4000   \n",
            "\n",
            "   worst concave points  worst symmetry  worst fractal dimension  \n",
            "0                0.2654          0.4601                  0.11890  \n",
            "1                0.1860          0.2750                  0.08902  \n",
            "2                0.2430          0.3613                  0.08758  \n",
            "3                0.2575          0.6638                  0.17300  \n",
            "4                0.1625          0.2364                  0.07678  \n",
            "\n",
            "[5 rows x 30 columns]\n"
          ]
        }
      ]
    },
    {
      "cell_type": "code",
      "source": [
        "from sklearn.feature_selection import RFE\n",
        "from sklearn.linear_model import LogisticRegression\n",
        "from sklearn.preprocessing import StandardScaler\n",
        "import pandas as pd\n",
        "from sklearn.datasets import load_breast_cancer\n",
        "\n",
        "# Load the Breast Cancer dataset\n",
        "data = load_breast_cancer()\n",
        "\n",
        "# Convert the dataset into a DataFrame for easier manipulation\n",
        "X = pd.DataFrame(data.data, columns=data.feature_names)\n",
        "y = data.target\n",
        "\n",
        "# Step 1: Scale the features (important for Logistic Regression to perform well)\n",
        "scaler = StandardScaler()\n",
        "X_scaled = scaler.fit_transform(X)\n",
        "\n",
        "# Step 2: Define the logistic regression model with increased max_iter and an alternative solver\n",
        "model = LogisticRegression(max_iter=2000, solver='saga')\n",
        "\n",
        "# Step 3: Perform RFE (Recursive Feature Elimination) with Logistic Regression, selecting top 5 features\n",
        "rfe = RFE(model, n_features_to_select=5)  # Set to select top 5 features\n",
        "X_rfe = rfe.fit_transform(X_scaled, y)\n",
        "\n",
        "# Step 4: Get the selected features\n",
        "selected_features_rfe = X.columns[rfe.support_]\n",
        "print(\"Selected features by RFE (Backward Elimination):\", selected_features_rfe)\n",
        "\n",
        "# Additional Output: Print the ranking of all features\n",
        "print(\"\\nFeature Ranking:\")\n",
        "for i in range(X.shape[1]):\n",
        "    print(f\"{X.columns[i]}: Rank {rfe.ranking_[i]}\")\n",
        "\n",
        "\n",
        "\n"
      ],
      "metadata": {
        "colab": {
          "base_uri": "https://localhost:8080/"
        },
        "id": "QPPQiUxYo2C_",
        "outputId": "27b9634d-d44b-467a-d09a-0bbf72d5ba06"
      },
      "execution_count": 3,
      "outputs": [
        {
          "output_type": "stream",
          "name": "stdout",
          "text": [
            "Selected features by RFE (Backward Elimination): Index(['radius error', 'worst radius', 'worst texture', 'worst area',\n",
            "       'worst concave points'],\n",
            "      dtype='object')\n",
            "\n",
            "Feature Ranking:\n",
            "mean radius: Rank 10\n",
            "mean texture: Rank 14\n",
            "mean perimeter: Rank 15\n",
            "mean area: Rank 8\n",
            "mean smoothness: Rank 23\n",
            "mean compactness: Rank 12\n",
            "mean concavity: Rank 13\n",
            "mean concave points: Rank 3\n",
            "mean symmetry: Rank 25\n",
            "mean fractal dimension: Rank 19\n",
            "radius error: Rank 1\n",
            "texture error: Rank 22\n",
            "perimeter error: Rank 9\n",
            "area error: Rank 4\n",
            "smoothness error: Rank 21\n",
            "compactness error: Rank 6\n",
            "concavity error: Rank 24\n",
            "concave points error: Rank 17\n",
            "symmetry error: Rank 20\n",
            "fractal dimension error: Rank 16\n",
            "worst radius: Rank 1\n",
            "worst texture: Rank 1\n",
            "worst perimeter: Rank 2\n",
            "worst area: Rank 1\n",
            "worst smoothness: Rank 7\n",
            "worst compactness: Rank 26\n",
            "worst concavity: Rank 5\n",
            "worst concave points: Rank 1\n",
            "worst symmetry: Rank 11\n",
            "worst fractal dimension: Rank 18\n"
          ]
        }
      ]
    },
    {
      "cell_type": "code",
      "source": [
        "#LASSO Regularization(embedded method)\n",
        "from sklearn.linear_model import Lasso\n",
        "from sklearn.preprocessing import StandardScaler\n",
        "\n",
        "\n",
        "scaler = StandardScaler()\n",
        "X_scaled = scaler.fit_transform(X)\n",
        "\n",
        "# Apply LASSO regularization\n",
        "lasso = Lasso(alpha=0.01)\n",
        "lasso.fit(X_scaled, y)\n",
        "\n",
        "# Get the features with non-zero coefficients\n",
        "lasso_features = X.columns[lasso.coef_ != 0]\n",
        "print(\"Selected features by LASSO Regularization (L1):\", lasso_features)"
      ],
      "metadata": {
        "colab": {
          "base_uri": "https://localhost:8080/"
        },
        "id": "ToBN1miypCUH",
        "outputId": "48496c4c-8e92-4f1c-b9af-dc7e44cb3d95"
      },
      "execution_count": 4,
      "outputs": [
        {
          "output_type": "stream",
          "name": "stdout",
          "text": [
            "Selected features by LASSO Regularization (L1): Index(['mean texture', 'mean concave points', 'mean fractal dimension',\n",
            "       'radius error', 'smoothness error', 'concavity error', 'worst radius',\n",
            "       'worst texture', 'worst smoothness', 'worst concavity',\n",
            "       'worst concave points', 'worst symmetry'],\n",
            "      dtype='object')\n"
          ]
        }
      ]
    },
    {
      "cell_type": "code",
      "source": [
        "# Compare selected features from both methods\n",
        "print(\"Features selected by Backward Feature Elimination (RFE):\", selected_features_rfe.tolist())\n",
        "print(\"Features selected by LASSO Regularization:\", lasso_features.tolist())"
      ],
      "metadata": {
        "colab": {
          "base_uri": "https://localhost:8080/"
        },
        "id": "hBkt3V9UpJGk",
        "outputId": "3cd42332-ac6b-4950-b6c4-4c26ed5f4fe3"
      },
      "execution_count": 5,
      "outputs": [
        {
          "output_type": "stream",
          "name": "stdout",
          "text": [
            "Features selected by Backward Feature Elimination (RFE): ['radius error', 'worst radius', 'worst texture', 'worst area', 'worst concave points']\n",
            "Features selected by LASSO Regularization: ['mean texture', 'mean concave points', 'mean fractal dimension', 'radius error', 'smoothness error', 'concavity error', 'worst radius', 'worst texture', 'worst smoothness', 'worst concavity', 'worst concave points', 'worst symmetry']\n"
          ]
        }
      ]
    },
    {
      "cell_type": "code",
      "source": [],
      "metadata": {
        "id": "VA14jGWupRmb"
      },
      "execution_count": null,
      "outputs": []
    }
  ]
}